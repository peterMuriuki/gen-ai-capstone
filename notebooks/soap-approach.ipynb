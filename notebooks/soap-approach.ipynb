{
 "cells": [
  {
   "cell_type": "markdown",
   "metadata": {},
   "source": [
    "# AI-Powered Clinical Documentation Assistant\n",
    "\n",
    "## Problem Overview\n",
    "\n",
    "Medical documentation consumes a significant amount of healthcare professionals' time, contributing to burnout and reducing time available for direct patient care. This notebook demonstrates an AI-powered workflow designed to alleviate this burden.\n",
    "\n",
    "**Goal:** Automatically process audio recordings of physician-patient encounters to:\n",
    "1.  **Extract structured medical information.**\n",
    "3.  **Generate standardized clinical notes** (e.g., SOAP notes).\n",
    "4.  **Output data in FHIR format** for seamless integration with Electronic Health Records (EHRs) and other healthcare systems.\n",
    "\n",
    "By automating these tasks, we aim to improve efficiency, reduce administrative overhead, and enhance data quality and reusability for clinical workflows and analytics."
   ]
  },
  {
   "cell_type": "markdown",
   "metadata": {},
   "source": [
    "## Solution Architecture\n",
    "\n",
    "This tool leverages generative AI to transform physician-patient audio conversations into structured electronic health data that adheres to the [FHIR (Fast Healthcare Interoperability Resources)](https://www.hl7.org/fhir/) standard. The process consists of three main steps:\n",
    "\n",
    "- **Audio Understanding**: The AI model transcribes and interprets the conversation to generate a concise, structured clinical note in the SOAP (Subjective, Objective, Assessment, Plan) format.\n",
    "- **Intent Extraction**: The system analyzes the SOAP note to infer clinical intents, such as symptoms, diagnoses, or prescribed treatments.\n",
    "- **FHIR Resource Generation**: Based on the inferred intents, the tool constructs corresponding FHIR resources to semantically represent the information.\n",
    "\n",
    "### Example Use Case\n",
    "\n",
    "If the patient mentions having previously taken `Secnidazole` for a stomach ailment, the AI agent recognizes this as relevant medical history. It responds by generating a `MedicationStatement` resource, appropriately linking it to other related resources—such as the `Encounter` resource representing the current consultation.\n",
    "\n",
    "The agent also enriches the generated data using its embedded knowledge of medical terminologies, automatically incorporating standardized codes from [SNOMED CT](https://www.snomed.org/use-snomed-ct) and [LOINC](https://loinc.org/) for fields such as [CodeableConcept](https://www.hl7.org/fhir/R4/datatypes.html#CodeableConcept), ensuring interoperability and semantic precision.\n"
   ]
  },
  {
   "cell_type": "markdown",
   "metadata": {},
   "source": [
    "## 1. Setup\n",
    "\n",
    "### 1.1 Install Required Packages\n",
    "\n",
    "Install the necessary Python libraries for interacting with the Gemini API, ChromaDB, LangChain, LangGraph, and handling JSON."
   ]
  },
  {
   "cell_type": "code",
   "execution_count": 15,
   "metadata": {},
   "outputs": [
    {
     "name": "stdout",
     "output_type": "stream",
     "text": [
      "\n",
      "\u001b[1m[\u001b[0m\u001b[34;49mnotice\u001b[0m\u001b[1;39;49m]\u001b[0m\u001b[39;49m A new release of pip is available: \u001b[0m\u001b[31;49m23.2.1\u001b[0m\u001b[39;49m -> \u001b[0m\u001b[32;49m25.0.1\u001b[0m\n",
      "\u001b[1m[\u001b[0m\u001b[34;49mnotice\u001b[0m\u001b[1;39;49m]\u001b[0m\u001b[39;49m To update, run: \u001b[0m\u001b[32;49mpython3.11 -m pip install --upgrade pip\u001b[0m\n",
      "Note: you may need to restart the kernel to use updated packages.\n"
     ]
    }
   ],
   "source": [
    "%pip install -q \"google-genai==1.7.0\" \"chromadb==0.6.3\" \"langchain==0.3.23\" \"langgraph==0.3.29\" \"json-repair==0.41.1\" \"google-api-core==2.24.2\" \"langchain-google-genai==2.1.2\""
   ]
  },
  {
   "cell_type": "markdown",
   "metadata": {},
   "source": [
    "\n",
    "### 1.2 Setting Up `GOOGLE_API_KEY` for Execution\n",
    "\n",
    "To successfully run the next cell, you must provide your `GOOGLE_API_KEY`. This is required to authenticate with Google APIs and is handled differently depending on the environment:\n",
    "\n",
    "- **Google Colab**\n",
    "  1.TBD\n",
    "\n",
    "- **Kaggle**\n",
    "  1. Click on **\"Add-ons\" > \"Secrets\"** in the notebook editor.\n",
    "  2. Create a new secret with the name `GOOGLE_API_KEY`.\n",
    "  3. Paste your API key as the value.\n",
    "  4. The notebook will automatically retrieve the secret.\n",
    "\n",
    "- **Local Environment**\n",
    "  1. Set the `GOOGLE_API_KEY` as an environment variable:\n",
    "     - Temporarily (for a session):\n",
    "       ```bash\n",
    "       export GOOGLE_API_KEY=<your-api-key>\n",
    "       ```\n",
    "  2. Restart your terminal or IDE session if needed before running the notebook."
   ]
  },
  {
   "cell_type": "code",
   "execution_count": 16,
   "metadata": {},
   "outputs": [],
   "source": [
    "import os\n",
    "\n",
    "# Case 1: Google Colab\n",
    "try:\n",
    "    import google.colab\n",
    "    from google.colab import userdata\n",
    "    os.environ[\"GOOGLE_API_KEY\"] = userdata.get(\"GOOGLE_API_KEY\")\n",
    "except ImportError:\n",
    "    # Not in Colab\n",
    "    pass\n",
    "\n",
    "# Case 2: Kaggle (use kaggle secrets)\n",
    "if os.environ.get(\"KAGGLE_KERNEL_RUN_TYPE\"):\n",
    "    try:\n",
    "        from kaggle_secrets import UserSecretsClient\n",
    "        secret = UserSecretsClient().get_secret(\"GOOGLE_API_KEY\")\n",
    "        os.environ[\"GOOGLE_API_KEY\"] = secret\n",
    "    except Exception as e:\n",
    "        print(\"Kaggle secret 'GOOGLE_API_KEY' not found or could not be retrieved:\", e)\n",
    "\n",
    "\n",
    "# Case 3: Local dev - assume manually set in environment\n",
    "GOOGLE_API_KEY=os.environ.get(\"GOOGLE_API_KEY\")\n",
    "if not GOOGLE_API_KEY:\n",
    "    raise EnvironmentError(\n",
    "        \"GOOGLE_API_KEY not found. Please set it in your environment variables \"\n",
    "        \"or in Kaggle/Colab secrets.\"\n",
    "    )\n",
    "\n",
    "\n"
   ]
  },
  {
   "cell_type": "code",
   "execution_count": 17,
   "metadata": {
    "_cell_guid": "b1076dfc-b9ad-4769-8c92-a6c4dae69d19",
    "_uuid": "8f2839f25d086af736a60e9eeb907d3b93b6e0e5"
   },
   "outputs": [],
   "source": [
    "from google import genai\n",
    "from google.genai import types\n",
    "from google.api_core import retry\n",
    "\n",
    "client = genai.Client(api_key=GOOGLE_API_KEY)\n",
    "model_id = \"gemini-2.0-flash\"\n",
    "\n",
    "is_retriable = lambda e: (isinstance(e, genai.errors.APIError) and e.code in {429, 503})\n",
    "\n",
    "# setup a retry scheme in case some requests fail (mostly due to rate limiting)\n",
    "genai.models.Models.generate_content = retry.Retry(\n",
    "    predicate=is_retriable)(genai.models.Models.generate_content)"
   ]
  },
  {
   "cell_type": "markdown",
   "metadata": {},
   "source": [
    "## 2 Define the langraph workflow\n",
    "\n",
    "We define the typing for our graph state in preparationto defining the function nodes."
   ]
  },
  {
   "cell_type": "code",
   "execution_count": 18,
   "metadata": {},
   "outputs": [],
   "source": [
    "from typing_extensions import TypedDict, Any, Dict, List\n",
    "\n",
    "# Define the state of our graph\n",
    "class AgentState(TypedDict):\n",
    "    audio_file_path: str\n",
    "    uploaded_audio_file: Any\n",
    "    transcription: str\n",
    "    soap_note: str\n",
    "    fhir_resources: List[Dict[str, Any]]\n",
    "    patient_resource: Dict[str, Any]\n",
    "    practitioner_resource: Dict[str, Any]\n",
    "    soap_fhir_resources: List[Dict]"
   ]
  },
  {
   "cell_type": "markdown",
   "metadata": {},
   "source": [
    "### 2.1 Define nodes to use in our graph workflow.\n"
   ]
  },
  {
   "cell_type": "code",
   "execution_count": 19,
   "metadata": {},
   "outputs": [],
   "source": [
    "_upload_file_cache = None\n",
    "\n",
    "def upload_to_gemini(state: AgentState):\n",
    "    \"\"\"\n",
    "    Uploads the local audio file to Gemini if not already uploaded.\n",
    "    Returns a dictionary with the uploaded file object.\n",
    "    \"\"\"\n",
    "    global _upload_file_cache\n",
    "    local_file_path = state.get(\"audio_file_path\")\n",
    "    try:\n",
    "        if _upload_file_cache is None:\n",
    "            _upload_file_cache = client.files.upload(file=local_file_path)\n",
    "        return {\"uploaded_audio_file\": _upload_file_cache}\n",
    "\n",
    "    except Exception as e:\n",
    "        print(f\"Error uploading to Gemini: {e}\")\n",
    "        # You can also return None, raise the error, or log it more formally\n",
    "        return {}"
   ]
  },
  {
   "cell_type": "code",
   "execution_count": 20,
   "metadata": {},
   "outputs": [],
   "source": [
    "def diarize_audio(state: AgentState):\n",
    "    prompt = \"\"\"\n",
    "        Diarize and transcribe this health-related interview, maintaining chronological order with timestamps if possible. Add labels for speaker (like 'Doctor:', 'Patient:', or 'Speaker 1:', 'Speaker 2:') at the beginning of each turn.\n",
    "        Accurately capture medical terms, mark unclear words as “[INAUDIBLE],” avoid adding extra commentary or guesses, and keep overlapping speech on separate lines. \n",
    "        Return only the final transcript.\n",
    "        \"\"\"\n",
    "    uploaded_audio_file = state.get(\"uploaded_audio_file\")\n",
    "\n",
    "    response = client.models.generate_content(\n",
    "        model=model_id, contents=[prompt, uploaded_audio_file]\n",
    "    )\n",
    "\n",
    "    transcription = response.text.strip()\n",
    "    return {\"transcription\": transcription}"
   ]
  },
  {
   "cell_type": "code",
   "execution_count": 21,
   "metadata": {},
   "outputs": [],
   "source": [
    "soap_note_generation_sys_prompt = \"\"\"You are an expert medical scribe tasked with generating a concise and accurate SOAP (Subjective, Objective, Assessment, Plan) note from a health care provider - patient conversation.\n",
    "**Input:** You will be provided with an audio recording of the conversation.\n",
    "**Task:**  Analyze the transcription and extract relevant information to populate each section of a SOAP note.\n",
    "**Output:**  Generate a SOAP note in the following structured format:\n",
    "S - Subjective:\n",
    "    Chief Complaint (CC): [Concise statement of the patient's primary reason for visit]\n",
    "    History of Present Illness (HPI): [Detailed narrative of the patient's current problem, using OLDCARTS or similar mnemonic if applicable. Include onset, location, duration, character, aggravating/alleviating factors, radiation, timing, severity.]\n",
    "    Past Medical History (PMH): [Summarize relevant past medical conditions mentioned by the patient or provider.]\n",
    "    Medications: [List current medications mentioned by the patient.]\n",
    "    Allergies: [List known allergies mentioned by the patient.]\n",
    "    Social History (SH): [Extract pertinent social history details like smoking, alcohol use, occupation, living situation if discussed and relevant to the encounter.]\n",
    "    Family History (FH): [Summarize relevant family history if discussed.]\n",
    "    Review of Systems (ROS): [Briefly list any systems reviewed and any symptoms reported by the patient related to those systems. Focus on relevant systems based on the chief complaint.]\n",
    "\n",
    "O - Objective:\n",
    "    Vital Signs: [List any vital signs mentioned in the transcription (BP, HR, RR, Temp, SpO2, Pain Scale) and their values if provided. If not explicitly stated in the transcription, state \"Not documented in transcription.\"]\n",
    "    Physical Exam Findings: [Summarize any physical exam findings described by the provider. Focus on findings related to the chief complaint and ROS. If no physical exam findings are explicitly mentioned in the transcription, state \"Not documented in transcription, infer from provider statements if possible (e.g., 'lungs sound clear' implies auscultation).\"]\n",
    "    Lab Results: [List any lab results mentioned by the provider or patient, including test name and result. If no lab results are mentioned, state \"Not documented in transcription.\"]\n",
    "    Imaging Results: [List any imaging results mentioned, including type and findings. If none mentioned, state \"Not documented in transcription.\"]\n",
    "    Other Diagnostic Tests: [List any other diagnostic test results mentioned (e.g., EKG, PFTs). If none mentioned, state \"Not documented in transcription.\"]\n",
    "\n",
    "A - Assessment:\n",
    "    Differential Diagnoses: [List any differential diagnoses discussed by the provider. Include potential diagnoses considered.]\n",
    "    Working Diagnosis (or Most Likely Diagnosis): [Identify the most likely diagnosis or working diagnosis stated or strongly implied by the provider. If no clear diagnosis is stated, summarize the provider's assessment of the patient's condition.]\n",
    "    Problem List: [List any active or chronic problems identified or confirmed by the provider during the encounter. Focus on problems relevant to this visit.]\n",
    "\n",
    "P - Plan:\n",
    "    Diagnostic Plan: [List any further diagnostic tests, labs, or imaging ordered or planned by the provider.]\n",
    "    Therapeutic Plan: [Summarize the treatment plan, including medications prescribed, procedures planned, therapies recommended, lifestyle modifications advised, and referrals made.]\n",
    "    Patient Education: [Summarize any patient education provided by the provider, including instructions, self-care advice, and information about medications or conditions.]\n",
    "    Follow-up Plan: [Describe the follow-up plan, including when the patient should return, specific instructions for follow-up, and any \"return precautions\" mentioned (e.g., \"return if symptoms worsen\").]\n",
    "    Consults/Referrals: [List any consultations or referrals to specialists or other providers planned by the provider.]   \n",
    "\"\"\""
   ]
  },
  {
   "cell_type": "code",
   "execution_count": 22,
   "metadata": {
    "jupyter": {
     "source_hidden": true
    }
   },
   "outputs": [],
   "source": [
    "from google.genai import types\n",
    "\n",
    "def generate_soap_note(state: AgentState):\n",
    "    transcription = state.get(\"transcription\")\n",
    "\n",
    "    response = client.models.generate_content(\n",
    "        model=model_id,\n",
    "        contents=[transcription],\n",
    "        config=types.GenerateContentConfig(\n",
    "            temperature=0.1,\n",
    "            system_instruction=soap_note_generation_sys_prompt\n",
    "        )\n",
    "    )\n",
    "\n",
    "    return {\"soap_note\": response.text}\n"
   ]
  },
  {
   "cell_type": "markdown",
   "metadata": {},
   "source": [
    "**Fhir resource generation planning(Reasoning and selection.)**"
   ]
  },
  {
   "cell_type": "code",
   "execution_count": 23,
   "metadata": {},
   "outputs": [],
   "source": [
    "import json_repair\n",
    "\n",
    "fhir_res_gen_sys_prompt = \"\"\"\n",
    "You are the ultimate expert in clinical data transformation. Your unparalleled skill lies in converting unstructured SOAP notes into structured, semantically accurate FHIR R4 resources in a single, efficient step. You possess deep knowledge of medical terminology, clinical workflows, and the FHIR R4 specification. Your goal is to take a SOAP note and directly generate a set of valid FHIR R4 JSON resources that comprehensively represent the clinical encounter.\n",
    "\"\"\"\n",
    "\n",
    "\n",
    "def generate_fhir_resources(state: AgentState):\n",
    "    soap_note = state.get(\"soap_note\")\n",
    "    prompt = prompt = \"\"\"\n",
    "        Convert the following SOAP note directly into a set of valid FHIR R4 JSON resources.\n",
    "\n",
    "        Let's use the following Chain of Thought to ensure accurate and comprehensive FHIR resource generation:\n",
    "\n",
    "        **Thought Process (Chain of Thought):**\n",
    "\n",
    "        1.  **Comprehensive SOAP Note Analysis:** I will thoroughly analyze the entire SOAP note, section by section (Subjective, Objective, Assessment, Plan), to understand all relevant clinical information, from patient reports to physician's plans.\n",
    "\n",
    "        2.  **Clinical Intent Recognition and Extraction:** As I analyze each part of the SOAP note, I will implicitly recognize the underlying clinical intents. I will mentally identify intents like 'patient_reported_symptom', 'medication_order', 'diagnosis', 'referral_request', etc., and extract the necessary details for each.\n",
    "\n",
    "        3.  **Direct FHIR Resource Planning and Generation:**  For each recognized clinical intent, I will directly determine the most appropriate FHIR R4 resource type *and immediately generate* the FHIR JSON content for that resource.  [**Simulated \"Action\": I will access my comprehensive FHIR R4 knowledge and best practices to select the right resource and populate it correctly.**]  **For resources representing future actions (e.g., MedicationRequest, ProcedureRequest, ServiceRequest, CarePlan, etc.), I will check if the resource has a status field that reflects operational progress. If a status field exists, I will set it to the *earliest possible status* that indicates a pending or preliminary state, such as 'draft', 'planned', 'active', 'requested', or 'on-hold', depending on the resource type and its valid status values. This ensures that these resources are not marked as complete and are ready for potential human-in-the-loop approval or further processing.** For resources that represent past or present observations or conditions, I will set their status to 'final' or appropriate terminal state.\n",
    "\n",
    "        4.  **Resource Interlinking:**  Where contextually appropriate, I will assign a globally unique identifier(UUID) to each resource and attempt to establish basic interlinks between resources. For example, linking Observations to the Encounter resources (use the placeholder reference \"unknownRef\" where the logical id is not present or unknown). I will however Assume that the Patient and Practitioner resources will be created separately and linked later.\n",
    "\n",
    "        5.  **Structured JSON Output of FHIR Resources:**  Finally, I will output a JSON object. a list of all complete generated R4 fhir resources.\n",
    "\n",
    "        **Output Format:**\n",
    "\n",
    "        Generate a JSON object where the keys are descriptive resource names and the values are the generated FHIR R4 JSON resource objects.\n",
    "\n",
    "        Example JSON output structure:\n",
    "        [<Generated Fhir resources>]\n",
    "    \"\"\"\n",
    "\n",
    "    response = client.models.generate_content(\n",
    "        model=model_id,\n",
    "        contents=[prompt, soap_note],\n",
    "        config=types.GenerateContentConfig(\n",
    "            temperature=0,\n",
    "            system_instruction=fhir_res_gen_sys_prompt,\n",
    "            response_mime_type=\"application/json\",\n",
    "        ),\n",
    "    )\n",
    "\n",
    "    fhir_resources = json_repair.loads(response.text)\n",
    "    return {\"fhir_resources\": fhir_resources}"
   ]
  },
  {
   "cell_type": "code",
   "execution_count": 24,
   "metadata": {},
   "outputs": [],
   "source": [
    "import json_repair\n",
    "import json\n",
    "\n",
    "def merge_phi_data(state: AgentState):\n",
    "    patient_resource = state.get(\"patient_resource\")\n",
    "    practitioner_resource = state.get(\"practitioner_resource\")\n",
    "    pat_res_id =patient_resource.get(\"id\")\n",
    "    pract_res_id=practitioner_resource.get(\"id\")\n",
    "    patient_ref_id = f\"Patient/{pat_res_id}\"\n",
    "    practitioner_ref_id = f\"Practitioner/{pract_res_id}\"\n",
    "\n",
    "    generated_resources = state.get(\"fhir_resources\")\n",
    "    as_text = json.dumps(generated_resources)\n",
    "    as_text = as_text.replace(\"Patient/unknownRef\", patient_ref_id).replace(\"Practitioner/unknownRef\", practitioner_ref_id)\n",
    "    return {\"fhir_resources\": json_repair.loads(as_text)}"
   ]
  },
  {
   "cell_type": "code",
   "execution_count": 25,
   "metadata": {},
   "outputs": [],
   "source": [
    "def truncate_text(text: str, n: int = 200) -> str:\n",
    "    \"\"\"Truncates text to the first n characters, adding ellipsis if truncated.\"\"\"\n",
    "    if len(text) > n:\n",
    "        return text[:n] + \"...\"\n",
    "    return text\n",
    "\n",
    "def write_response(state: AgentState):\n",
    "    \"\"\"\n",
    "    Generates a well-defined, formatted string summarizing the AgentState,\n",
    "    using header sections and clear lines for separation.\n",
    "\n",
    "    Args:\n",
    "        state: The AgentState dictionary.\n",
    "\n",
    "    Returns:\n",
    "        A formatted string representing the state.\n",
    "    \"\"\"\n",
    "\n",
    "    separator_line = \"---------------------------\\n\"\n",
    "    section_separator = \"\\n\" + separator_line + \"\\n\"\n",
    "\n",
    "    if state.get('uploaded_audio_file') is None:\n",
    "        msg =  \"# Agent Workflow Response\\n\" + \\\n",
    "               section_separator + \\\n",
    "               \"**Error:** Audio file upload failed. Workflow incomplete.\\n\" + \\\n",
    "               section_separator\n",
    "        print(msg)\n",
    "        return {}\n",
    "    \n",
    "    print(state.get(\"fhir_resources\"))\n",
    "\n",
    "    response_parts = [\n",
    "        \"# Agent Workflow Response\\n\",\n",
    "        section_separator,\n",
    "        section_separator,\n",
    "        \"## Processing Results\\n\",\n",
    "        \"  * **Transcription:** \", truncate_text(state.get('transcription', 'N/A')), \"\\n\",\n",
    "        \"  * **SOAP Note:** \", truncate_text(state.get('soap_note', 'N/A')), \"\\n\",\n",
    "        section_separator,\n",
    "        \"## FHIR Resources\\n\",\n",
    "        \"  * **Number of Resources:** \", str(len(state.get('fhir_resources', []))), \" generated\\n\",\n",
    "        section_separator,\n",
    "    ]\n",
    "\n",
    "    print(\"\".join(response_parts))\n",
    "    return {}"
   ]
  },
  {
   "cell_type": "markdown",
   "metadata": {},
   "source": [
    "Bring everything together as a graph to execture our workflow"
   ]
  },
  {
   "cell_type": "code",
   "execution_count": 26,
   "metadata": {},
   "outputs": [],
   "source": [
    "from langchain_google_genai import ChatGoogleGenerativeAI # Correct import path\n",
    "from langgraph.graph import StateGraph, END, START\n",
    "\n",
    "model = ChatGoogleGenerativeAI(model=model_id, google_api_key=GOOGLE_API_KEY)\n",
    "\n",
    "# Defined the graph\n",
    "wk_graph = StateGraph(AgentState)\n",
    "\n",
    "\n",
    "# node magic strings\n",
    "audio_file_upload_key = \"upload_to_gemini\"\n",
    "gen_soap_note_key = \"generate_soap_note\"\n",
    "write_resp_key = \"write_resp\"\n",
    "diarize_audio_key = \"diarize_audio\"\n",
    "gen_fhir_resources_key=\"generate_fhir_resources\"\n",
    "merge_phi_data_key=\"merge_phi_data\"\n",
    "\n",
    "\n",
    "# Nodes\n",
    "wk_graph.add_node(audio_file_upload_key, upload_to_gemini)\n",
    "wk_graph.add_node(gen_soap_note_key, generate_soap_note)\n",
    "wk_graph.add_node(write_resp_key, write_response)\n",
    "wk_graph.add_node(diarize_audio_key, diarize_audio)\n",
    "wk_graph.add_node(gen_fhir_resources_key, generate_fhir_resources)\n",
    "wk_graph.add_node(merge_phi_data_key, merge_phi_data)\n",
    "\n",
    "def check_file_upload(state: AgentState):\n",
    "    if state.get(\"uploaded_audio_file\"):\n",
    "        return diarize_audio_key\n",
    "    else:\n",
    "        return write_resp_key\n",
    "\n",
    "\n",
    "# Edges\n",
    "wk_graph.add_edge(START, audio_file_upload_key)\n",
    "wk_graph.add_conditional_edges(audio_file_upload_key, check_file_upload)\n",
    "wk_graph.add_edge(diarize_audio_key, gen_soap_note_key)\n",
    "wk_graph.add_edge(gen_soap_note_key, gen_fhir_resources_key)\n",
    "wk_graph.add_edge(gen_fhir_resources_key, merge_phi_data_key)\n",
    "wk_graph.add_edge(merge_phi_data_key, write_resp_key)\n",
    "wk_graph.add_edge(write_resp_key, END)\n",
    "\n",
    "graph = wk_graph.compile()"
   ]
  },
  {
   "cell_type": "code",
   "execution_count": 27,
   "metadata": {},
   "outputs": [
    {
     "data": {
      "image/png": "[encoded data removed]",
      "text/plain": [
       "<IPython.core.display.Image object>"
      ]
     },
     "execution_count": 27,
     "metadata": {},
     "output_type": "execute_result"
    }
   ],
   "source": [
    "from IPython.display import Image\n",
    "\n",
    "Image(graph.get_graph().draw_mermaid_png())"
   ]
  },
  {
   "cell_type": "code",
   "execution_count": 28,
   "metadata": {},
   "outputs": [
    {
     "name": "stdout",
     "output_type": "stream",
     "text": [
      "Error uploading to Gemini: The read operation timed out\n",
      "# Agent Workflow Response\n",
      "\n",
      "---------------------------\n",
      "\n",
      "**Error:** Audio file upload failed. Workflow incomplete.\n",
      "\n",
      "---------------------------\n",
      "\n",
      "\n"
     ]
    },
    {
     "data": {
      "text/plain": [
       "{'audio_file_path': '../Data/CAR0001.mp3',\n",
       " 'patient_resource': {'id': 'Patient/123456'},\n",
       " 'practitioner_resource': {'id': 'Patient/123456'}}"
      ]
     },
     "execution_count": 28,
     "metadata": {},
     "output_type": "execute_result"
    }
   ],
   "source": [
    "audio_file_path = \"../Data/CAR0001.mp3\"\n",
    "\n",
    "inputs = {\n",
    "    \"audio_file_path\": audio_file_path,\n",
    "    \"patient_resource\": {\"id\": \"Patient/123456\"},\n",
    "    \"practitioner_resource\": {\"id\": \"Patient/123456\"}\n",
    "}\n",
    "graph.invoke(inputs)"
   ]
  },
  {
   "cell_type": "code",
   "execution_count": null,
   "metadata": {},
   "outputs": [],
   "source": []
  }
 ],
 "metadata": {
  "kaggle": {
   "accelerator": "none",
   "dataSources": [
    {
     "datasetId": 7114367,
     "sourceId": 11400356,
     "sourceType": "datasetVersion"
    },
    {
     "datasetId": 7164736,
     "sourceId": 11438045,
     "sourceType": "datasetVersion"
    }
   ],
   "dockerImageVersionId": 31012,
   "isGpuEnabled": false,
   "isInternetEnabled": true,
   "language": "python",
   "sourceType": "notebook"
  },
  "kernelspec": {
   "display_name": "Python 3 (ipykernel)",
   "language": "python",
   "name": "python3"
  },
  "language_info": {
   "codemirror_mode": {
    "name": "ipython",
    "version": 3
   },
   "file_extension": ".py",
   "mimetype": "text/x-python",
   "name": "python",
   "nbconvert_exporter": "python",
   "pygments_lexer": "ipython3",
   "version": "3.11.5"
  }
 },
 "nbformat": 4,
 "nbformat_minor": 4
}
